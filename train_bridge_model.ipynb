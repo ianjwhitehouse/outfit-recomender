{
 "cells": [
  {
   "cell_type": "code",
   "execution_count": 39,
   "id": "ec90f53f-db51-45c8-a7bb-857204dbb93b",
   "metadata": {},
   "outputs": [],
   "source": [
    "# Load embeddings\n",
    "from pickle import load\n",
    "import numpy as np\n",
    "from sklearn.decomposition import PCA\n",
    "from sklearn.manifold import TSNE\n",
    "\n",
    "embeds = load(open(\"jepa_encodings.pkl\", \"rb\"))\n",
    "\n",
    "# Break into categories\n",
    "clothing_embed = {k:v for k, v in embeds.items() if k.endswith(\"c.png\")}\n",
    "clothing_labels = [k.split(\"-\")[0].split(\"_\") for k in clothing_embed.keys()]\n",
    "clothing_labels = [[lab[0], lab[1], lab[2][:-1]] if lab[2].endswith(\"s\") else lab for lab in clothing_labels]\n",
    "clothing_embed = np.array(list(clothing_embed.values()))\n",
    "\n",
    "full_body_embed = {k:v for k, v in embeds.items() if k.endswith(\"fb.png\")}\n",
    "full_body_labels = [k.split(\"-\")[0].split(\"_\") for k in full_body_embed.keys()]\n",
    "full_body_labels = [[lab[0], lab[1], lab[2][:-1]] if lab[2].endswith(\"s\") else lab for lab in full_body_labels]\n",
    "full_body_embed = np.array(list(full_body_embed.values()))"
   ]
  },
  {
   "cell_type": "code",
   "execution_count": 40,
   "id": "a0b63d06-5f8a-4516-8385-e5df1276f156",
   "metadata": {},
   "outputs": [],
   "source": [
    "# Preprocess embedings\n",
    "clothing_genders = np.zeros((clothing_embed.shape[0], 2))\n",
    "clothing_genders[np.array([{\"mens\": 0, \"womens\": 1}[lab[1]] for lab in clothing_labels])] = 1\n",
    "\n",
    "clothing_type = np.zeros((clothing_embed.shape[0], 6))\n",
    "clothing_type[np.array([\n",
    "    {\"shirt\": 0, \"top\": 1, \"sweater\": 2, \"pant\": 3, \"skirt\": 4, \"short\": 5}[lab[2]]\n",
    "    for lab in clothing_labels\n",
    "])] = 1"
   ]
  },
  {
   "cell_type": "code",
   "execution_count": 41,
   "id": "c798f5d1-ef62-4f8b-8262-7815413cff32",
   "metadata": {},
   "outputs": [
    {
     "name": "stdout",
     "output_type": "stream",
     "text": [
      "Epoch 1/100\n",
      "\u001b[1m18/18\u001b[0m \u001b[32m━━━━━━━━━━━━━━━━━━━━\u001b[0m\u001b[37m\u001b[0m \u001b[1m10s\u001b[0m 479ms/step - loss: 210.9706 - val_loss: 6.7898\n",
      "Epoch 2/100\n",
      "\u001b[1m18/18\u001b[0m \u001b[32m━━━━━━━━━━━━━━━━━━━━\u001b[0m\u001b[37m\u001b[0m \u001b[1m8s\u001b[0m 454ms/step - loss: 4.8367 - val_loss: 1.1446\n",
      "Epoch 3/100\n",
      "\u001b[1m18/18\u001b[0m \u001b[32m━━━━━━━━━━━━━━━━━━━━\u001b[0m\u001b[37m\u001b[0m \u001b[1m8s\u001b[0m 451ms/step - loss: 0.7686 - val_loss: 0.2549\n",
      "Epoch 4/100\n",
      "\u001b[1m18/18\u001b[0m \u001b[32m━━━━━━━━━━━━━━━━━━━━\u001b[0m\u001b[37m\u001b[0m \u001b[1m8s\u001b[0m 451ms/step - loss: 0.2406 - val_loss: 0.1516\n",
      "Epoch 5/100\n",
      "\u001b[1m18/18\u001b[0m \u001b[32m━━━━━━━━━━━━━━━━━━━━\u001b[0m\u001b[37m\u001b[0m \u001b[1m8s\u001b[0m 432ms/step - loss: 0.1522 - val_loss: 0.1901\n",
      "Epoch 6/100\n",
      "\u001b[1m18/18\u001b[0m \u001b[32m━━━━━━━━━━━━━━━━━━━━\u001b[0m\u001b[37m\u001b[0m \u001b[1m8s\u001b[0m 431ms/step - loss: 0.1762 - val_loss: 0.2133\n",
      "Epoch 7/100\n",
      "\u001b[1m18/18\u001b[0m \u001b[32m━━━━━━━━━━━━━━━━━━━━\u001b[0m\u001b[37m\u001b[0m \u001b[1m8s\u001b[0m 429ms/step - loss: 0.1759 - val_loss: 0.1568\n",
      "Epoch 8/100\n",
      "\u001b[1m18/18\u001b[0m \u001b[32m━━━━━━━━━━━━━━━━━━━━\u001b[0m\u001b[37m\u001b[0m \u001b[1m8s\u001b[0m 452ms/step - loss: 0.1369 - val_loss: 0.1281\n",
      "Epoch 9/100\n",
      "\u001b[1m18/18\u001b[0m \u001b[32m━━━━━━━━━━━━━━━━━━━━\u001b[0m\u001b[37m\u001b[0m \u001b[1m8s\u001b[0m 430ms/step - loss: 0.3336 - val_loss: 0.1543\n",
      "Epoch 10/100\n",
      "\u001b[1m18/18\u001b[0m \u001b[32m━━━━━━━━━━━━━━━━━━━━\u001b[0m\u001b[37m\u001b[0m \u001b[1m8s\u001b[0m 432ms/step - loss: 0.4797 - val_loss: 0.3511\n",
      "Epoch 11/100\n",
      "\u001b[1m18/18\u001b[0m \u001b[32m━━━━━━━━━━━━━━━━━━━━\u001b[0m\u001b[37m\u001b[0m \u001b[1m8s\u001b[0m 432ms/step - loss: 0.2109 - val_loss: 0.1347\n",
      "Epoch 12/100\n",
      "\u001b[1m18/18\u001b[0m \u001b[32m━━━━━━━━━━━━━━━━━━━━\u001b[0m\u001b[37m\u001b[0m \u001b[1m8s\u001b[0m 453ms/step - loss: 0.1294 - val_loss: 0.1191\n",
      "Epoch 13/100\n",
      "\u001b[1m18/18\u001b[0m \u001b[32m━━━━━━━━━━━━━━━━━━━━\u001b[0m\u001b[37m\u001b[0m \u001b[1m8s\u001b[0m 453ms/step - loss: 0.1215 - val_loss: 0.1149\n",
      "Epoch 14/100\n",
      "\u001b[1m18/18\u001b[0m \u001b[32m━━━━━━━━━━━━━━━━━━━━\u001b[0m\u001b[37m\u001b[0m \u001b[1m8s\u001b[0m 429ms/step - loss: 0.1166 - val_loss: 0.1210\n",
      "Epoch 15/100\n",
      "\u001b[1m18/18\u001b[0m \u001b[32m━━━━━━━━━━━━━━━━━━━━\u001b[0m\u001b[37m\u001b[0m \u001b[1m8s\u001b[0m 431ms/step - loss: 0.1181 - val_loss: 0.1280\n",
      "Epoch 16/100\n",
      "\u001b[1m18/18\u001b[0m \u001b[32m━━━━━━━━━━━━━━━━━━━━\u001b[0m\u001b[37m\u001b[0m \u001b[1m8s\u001b[0m 431ms/step - loss: 0.1162 - val_loss: 0.1236\n",
      "Epoch 17/100\n",
      "\u001b[1m18/18\u001b[0m \u001b[32m━━━━━━━━━━━━━━━━━━━━\u001b[0m\u001b[37m\u001b[0m \u001b[1m8s\u001b[0m 429ms/step - loss: 0.1169 - val_loss: 0.1242\n",
      "Epoch 18/100\n",
      "\u001b[1m18/18\u001b[0m \u001b[32m━━━━━━━━━━━━━━━━━━━━\u001b[0m\u001b[37m\u001b[0m \u001b[1m8s\u001b[0m 432ms/step - loss: 0.1203 - val_loss: 0.1164\n"
     ]
    },
    {
     "data": {
      "text/plain": [
       "<keras.src.callbacks.history.History at 0x76e19aa5bd50>"
      ]
     },
     "execution_count": 41,
     "metadata": {},
     "output_type": "execute_result"
    }
   ],
   "source": [
    "# Train model\n",
    "import tensorflow as tf\n",
    "\n",
    "model = tf.keras.Sequential([\n",
    "    tf.keras.layers.Input((clothing_embed.shape[1] + 2 + 6,)),\n",
    "    tf.keras.layers.Dense(clothing_embed.shape[1] * 8, activation=\"elu\"),\n",
    "    tf.keras.layers.Dense(clothing_embed.shape[1] * 8, activation=\"elu\"),\n",
    "    tf.keras.layers.Dense(clothing_embed.shape[1] * 8, activation=\"elu\"),\n",
    "    tf.keras.layers.Dense(full_body_embed.shape[1])\n",
    "])\n",
    "\n",
    "model.compile(\n",
    "    optimizer=\"adam\",\n",
    "    loss=\"mse\",\n",
    ")\n",
    "\n",
    "model.fit(\n",
    "    np.concatenate([clothing_embed, clothing_genders, clothing_type], axis=-1),\n",
    "    full_body_embed,\n",
    "    batch_size=32,\n",
    "    epochs=100,\n",
    "    validation_split=0.1,\n",
    "    callbacks=[tf.keras.callbacks.EarlyStopping(patience=5, restore_best_weights=True)],\n",
    ")   "
   ]
  },
  {
   "cell_type": "code",
   "execution_count": 43,
   "id": "62d6b795-c535-49dc-8613-57ea12982b51",
   "metadata": {},
   "outputs": [
    {
     "name": "stdout",
     "output_type": "stream",
     "text": [
      "<dtype: 'float32'>\n"
     ]
    },
    {
     "data": {
      "text/plain": [
       "<tf.Tensor: shape=(640, 5), dtype=int32, numpy=\n",
       "array([[319, 510, 573, 179, 351],\n",
       "       [319, 351, 510, 573,  11],\n",
       "       [351,  11, 510, 319, 155],\n",
       "       ...,\n",
       "       [510, 319, 573, 351, 179],\n",
       "       [319, 510, 573, 179, 463],\n",
       "       [351, 510,  11, 319, 326]], dtype=int32)>"
      ]
     },
     "execution_count": 43,
     "metadata": {},
     "output_type": "execute_result"
    }
   ],
   "source": [
    "# Test model\n",
    "converted_clothing_embeds = model(np.concatenate([clothing_embed, clothing_genders, clothing_type], axis=-1))\n",
    "converted_clothing_embeds = tf.expand_dims(converted_clothing_embeds, axis=0)\n",
    "print(converted_clothing_embeds.dtype)\n",
    "\n",
    "tf_full_body_embed = tf.cast(tf.expand_dims(full_body_embed.astype(np.float64), axis=1), float)\n",
    "\n",
    "distances = tf.math.sqrt(tf.math.reduce_sum(tf.math.square(tf_full_body_embed - converted_clothing_embeds), axis=-1))\n",
    "best_samples = tf.math.top_k(distances, k=5).indices\n",
    "\n",
    "best_samples"
   ]
  },
  {
   "cell_type": "code",
   "execution_count": 45,
   "id": "016a3600-7617-4a77-8055-d29056dfd1de",
   "metadata": {},
   "outputs": [
    {
     "data": {
      "text/plain": [
       "(<tf.Tensor: shape=(1, 640, 1280), dtype=float32, numpy=\n",
       " array([[[ 0.4439231 ,  0.07123362,  0.08202247, ...,  0.17721836,\n",
       "           0.07446754, -0.06796871],\n",
       "         [ 0.42016384,  0.16272257,  0.12194226, ...,  0.0834841 ,\n",
       "           0.06801963, -0.1994041 ],\n",
       "         [ 0.4250056 ,  0.06213699,  0.07934127, ...,  0.1313514 ,\n",
       "           0.07301083, -0.04101493],\n",
       "         ...,\n",
       "         [ 0.40245378,  0.05559085,  0.12521657, ...,  0.12405013,\n",
       "           0.04581612, -0.04844816],\n",
       "         [ 0.4105565 ,  0.1253966 ,  0.19989783, ...,  0.10359238,\n",
       "           0.01225823, -0.1439134 ],\n",
       "         [ 0.40059572,  0.21454595,  0.19475797, ..., -0.02809591,\n",
       "           0.05056907, -0.22802149]]], dtype=float32)>,\n",
       " <tf.Tensor: shape=(640, 1, 1280), dtype=float32, numpy=\n",
       " array([[[ 0.6672959 , -0.04892977,  0.05864802, ...,  0.14453836,\n",
       "           0.04995417, -0.02062187]],\n",
       " \n",
       "        [[ 1.265888  , -0.07156598,  0.11879012, ...,  0.06167518,\n",
       "           0.05703071, -0.04923891]],\n",
       " \n",
       "        [[ 0.04082744, -0.06218538,  0.05964201, ...,  0.14697598,\n",
       "           0.04863011, -0.05415788]],\n",
       " \n",
       "        ...,\n",
       " \n",
       "        [[ 0.78544956, -0.04756495,  0.08930106, ...,  0.09009924,\n",
       "           0.06357691, -0.01694983]],\n",
       " \n",
       "        [[ 0.71252227, -0.0392842 ,  0.08719226, ...,  0.06430636,\n",
       "           0.06436408, -0.07899006]],\n",
       " \n",
       "        [[ 1.0297896 , -0.05868667,  0.11890354, ...,  0.08459148,\n",
       "           0.05241081, -0.02845718]]], dtype=float32)>)"
      ]
     },
     "execution_count": 45,
     "metadata": {},
     "output_type": "execute_result"
    }
   ],
   "source": [
    "converted_clothing_embeds, tf_full_body_embed"
   ]
  },
  {
   "cell_type": "code",
   "execution_count": null,
   "id": "35778dc1-63a9-4955-898b-60cf6e6318e7",
   "metadata": {},
   "outputs": [],
   "source": []
  }
 ],
 "metadata": {
  "kernelspec": {
   "display_name": "tf",
   "language": "python",
   "name": "tf"
  },
  "language_info": {
   "codemirror_mode": {
    "name": "ipython",
    "version": 3
   },
   "file_extension": ".py",
   "mimetype": "text/x-python",
   "name": "python",
   "nbconvert_exporter": "python",
   "pygments_lexer": "ipython3",
   "version": "3.11.8"
  }
 },
 "nbformat": 4,
 "nbformat_minor": 5
}
